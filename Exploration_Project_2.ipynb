{
  "nbformat": 4,
  "nbformat_minor": 0,
  "metadata": {
    "colab": {
      "provenance": [],
      "authorship_tag": "ABX9TyO6yMLBakqPGlLSW3qQHu9+",
      "include_colab_link": true
    },
    "kernelspec": {
      "name": "python3",
      "display_name": "Python 3"
    },
    "language_info": {
      "name": "python"
    }
  },
  "cells": [
    {
      "cell_type": "markdown",
      "metadata": {
        "id": "view-in-github",
        "colab_type": "text"
      },
      "source": [
        "<a href=\"https://colab.research.google.com/github/tboyea/2023-Math-152/blob/main/Exploration_Project_2.ipynb\" target=\"_parent\"><img src=\"https://colab.research.google.com/assets/colab-badge.svg\" alt=\"Open In Colab\"/></a>"
      ]
    },
    {
      "cell_type": "markdown",
      "source": [
        "#Exploration 2: Newton's method and basins of attraction"
      ],
      "metadata": {
        "id": "qXM-TDzuR8BZ"
      }
    },
    {
      "cell_type": "markdown",
      "source": [
        "By: Tanner Boyea, Kelly Kirchner, Samn"
      ],
      "metadata": {
        "id": "d8qOBDfFSI_y"
      }
    },
    {
      "cell_type": "code",
      "execution_count": null,
      "metadata": {
        "id": "JVHvyBhzRyzt"
      },
      "outputs": [],
      "source": []
    }
  ]
}