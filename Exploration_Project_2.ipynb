{
  "nbformat": 4,
  "nbformat_minor": 0,
  "metadata": {
    "colab": {
      "provenance": [],
      "include_colab_link": true
    },
    "kernelspec": {
      "name": "python3",
      "display_name": "Python 3"
    },
    "language_info": {
      "name": "python"
    }
  },
  "cells": [
    {
      "cell_type": "markdown",
      "metadata": {
        "id": "view-in-github",
        "colab_type": "text"
      },
      "source": [
        "<a href=\"https://colab.research.google.com/github/tboyea/2023-Math-152/blob/main/Exploration_Project_2.ipynb\" target=\"_parent\"><img src=\"https://colab.research.google.com/assets/colab-badge.svg\" alt=\"Open In Colab\"/></a>"
      ]
    },
    {
      "cell_type": "markdown",
      "source": [
        "#Exploration 2: Newton's method and basins of attraction"
      ],
      "metadata": {
        "id": "qXM-TDzuR8BZ"
      }
    },
    {
      "cell_type": "markdown",
      "source": [
        "By: Tanner Boyea, Kelly Kirchner, Samuel Neff"
      ],
      "metadata": {
        "id": "d8qOBDfFSI_y"
      }
    },
    {
      "cell_type": "markdown",
      "source": [
        "Newton's Method is an algorithm used to approximate the roots of a differentiable function.\n",
        "\n",
        "The method:\n",
        "\n",
        "First, you start with any guess as long as the function's derivative at that point is non-zero. WE can call this guess $x_n$.\n",
        "Then, you calculate the functions value and derivative at that point, we can call them $f(x_n)$ and $f'(x_n)$.\n",
        "After this, you find the next term by $x_{n+1} = x - \\frac{f(x_n)}{f'(x_n)}$.\n",
        "We can repeat this step until sufficient enough precision.\n"
      ],
      "metadata": {
        "id": "Lneo3C0AZ60E"
      }
    },
    {
      "cell_type": "markdown",
      "source": [
        "#Tools:\n",
        "First, we will need to import all packages we plan on using\n",
        "numpy will be used to multiply lists and initialize the array of pixels\n",
        "matplotlib.pyplot will be used to visualize the steps of convergence\n",
        "PIL will be used to visualize the basins of attraction"
      ],
      "metadata": {
        "id": "sTlyxJFDaftJ"
      }
    },
    {
      "cell_type": "code",
      "execution_count": 1,
      "metadata": {
        "id": "JVHvyBhzRyzt"
      },
      "outputs": [],
      "source": [
        "import numpy as np\n",
        "from matplotlib import pyplot as plt\n",
        "from PIL import Image\n",
        "     "
      ]
    },
    {
      "cell_type": "markdown",
      "source": [
        "test"
      ],
      "metadata": {
        "id": "Ktcbs1MzTM6h"
      }
    },
    {
      "cell_type": "markdown",
      "source": [
        "Newton's Fractal Setup"
      ],
      "metadata": {
        "id": "oOh19V6TUusb"
      }
    },
    {
      "cell_type": "code",
      "source": [
        "import numpy as np\n",
        "import random as rand\n",
        "\n",
        "#-----------------------------COLORS-----------------------------\n",
        "\n",
        "colorList = [ [0.0   , 0.4470, 0.7410],\\\n",
        "              [0.8500, 0.3250, 0.0980],\\\n",
        "              [0.9290, 0.6940, 0.1250],\\\n",
        "              [0.4660, 0.6740, 0.1880],\\\n",
        "              [0.3010, 0.7450, 0.9330],\\\n",
        "              [0.6350, 0.0780, 0.1840] ]\n",
        "\n",
        "def getColor(n):\n",
        "  # returns nth color from colorlist. if n geq len, return random color \n",
        "  if (n < len(colorList)):\n",
        "      return colorList(n)\n",
        "  else:\n",
        "      return [rand.random(), rand.random(), rand.random()]\n",
        "\n",
        "\n",
        "#-----------------------------MATH-----------------------------\n",
        "\n",
        "# note: ik these are all functions in numpy.\n",
        "def polyDeriv(coeffs):\n",
        "  # returns the derivative of a polynomial whose nth degree coefficients are coeffs[n]\n",
        "  # output is again a list of coefficents\n",
        "  return [coeffs[n+1]*(n+1) for n in range(0,len(coeffs)-1)]\n",
        "\n",
        "def polyEval(coeffs, X):\n",
        "  # evaluates a polynomial at an array of numpy points X\n",
        "  out = np.zeros(size(X))\n",
        "  for n in range(0,len(coeffs)):\n",
        "      out += np.multiply(np.power(X,n), coeffs[n])\n",
        "\n",
        "\n",
        "def sqdist(x0,y0,x1,y1):\n",
        "  return (x0-x1)**2 + (y0-y1)**2\n"
      ],
      "metadata": {
        "id": "NdUK6y6VUuJb"
      },
      "execution_count": null,
      "outputs": []
    },
    {
      "cell_type": "code",
      "source": [
        "polyDeriv([0,0,2,4])"
      ],
      "metadata": {
        "colab": {
          "base_uri": "https://localhost:8080/"
        },
        "id": "kxWl_fqrWivH",
        "outputId": "00aa903c-51fb-42b4-d5fc-b7bfb93f10e8"
      },
      "execution_count": null,
      "outputs": [
        {
          "output_type": "execute_result",
          "data": {
            "text/plain": [
              "[0, 4, 12]"
            ]
          },
          "metadata": {},
          "execution_count": 9
        }
      ]
    }
  ]
}