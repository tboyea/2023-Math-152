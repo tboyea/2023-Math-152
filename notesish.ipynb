{
  "nbformat": 4,
  "nbformat_minor": 0,
  "metadata": {
    "colab": {
      "provenance": [],
      "authorship_tag": "ABX9TyM6Mz6LMDPGNbusDj2dPunJ",
      "include_colab_link": true
    },
    "kernelspec": {
      "name": "python3",
      "display_name": "Python 3"
    },
    "language_info": {
      "name": "python"
    }
  },
  "cells": [
    {
      "cell_type": "markdown",
      "metadata": {
        "id": "view-in-github",
        "colab_type": "text"
      },
      "source": [
        "<a href=\"https://colab.research.google.com/github/tboyea/2023-Math-152/blob/main/notesish.ipynb\" target=\"_parent\"><img src=\"https://colab.research.google.com/assets/colab-badge.svg\" alt=\"Open In Colab\"/></a>"
      ]
    },
    {
      "cell_type": "markdown",
      "source": [
        "#Problem 1"
      ],
      "metadata": {
        "id": "HvooOSx3_42y"
      }
    },
    {
      "cell_type": "code",
      "execution_count": 1,
      "metadata": {
        "id": "82tNJApz7l1X"
      },
      "outputs": [],
      "source": [
        "def sumtwo(N):\n",
        "  answer=0\n",
        "  for x in range(0, N+1):\n",
        "    answer += 2**x\n",
        "  return answer"
      ]
    },
    {
      "cell_type": "code",
      "source": [
        "sumtwo(5)"
      ],
      "metadata": {
        "colab": {
          "base_uri": "https://localhost:8080/"
        },
        "id": "SCm4eq1B71Yv",
        "outputId": "f6600eae-6d43-4555-ea51-b9b41c5f85c6"
      },
      "execution_count": 15,
      "outputs": [
        {
          "output_type": "execute_result",
          "data": {
            "text/plain": [
              "63"
            ]
          },
          "metadata": {},
          "execution_count": 15
        }
      ]
    },
    {
      "cell_type": "markdown",
      "source": [
        "#Problem 2"
      ],
      "metadata": {
        "id": "Y7hS0joXBTX1"
      }
    },
    {
      "cell_type": "code",
      "source": [
        "L=[]\n",
        "for x in range(1,11):\n",
        "    for y in range(1,11):\n",
        "        answer_1=0\n",
        "        answer_1 += x/y\n",
        "        L.append(answer_1)\n",
        "print(L)    \n",
        "sum(L)"
      ],
      "metadata": {
        "colab": {
          "base_uri": "https://localhost:8080/"
        },
        "id": "2VVfSbhh-LKW",
        "outputId": "f372f83a-1c3a-4f4b-e822-b7e32575ab09"
      },
      "execution_count": 52,
      "outputs": [
        {
          "output_type": "stream",
          "name": "stdout",
          "text": [
            "[1.0, 0.5, 0.3333333333333333, 0.25, 0.2, 0.16666666666666666, 0.14285714285714285, 0.125, 0.1111111111111111, 0.1, 2.0, 1.0, 0.6666666666666666, 0.5, 0.4, 0.3333333333333333, 0.2857142857142857, 0.25, 0.2222222222222222, 0.2, 3.0, 1.5, 1.0, 0.75, 0.6, 0.5, 0.42857142857142855, 0.375, 0.3333333333333333, 0.3, 4.0, 2.0, 1.3333333333333333, 1.0, 0.8, 0.6666666666666666, 0.5714285714285714, 0.5, 0.4444444444444444, 0.4, 5.0, 2.5, 1.6666666666666667, 1.25, 1.0, 0.8333333333333334, 0.7142857142857143, 0.625, 0.5555555555555556, 0.5, 6.0, 3.0, 2.0, 1.5, 1.2, 1.0, 0.8571428571428571, 0.75, 0.6666666666666666, 0.6, 7.0, 3.5, 2.3333333333333335, 1.75, 1.4, 1.1666666666666667, 1.0, 0.875, 0.7777777777777778, 0.7, 8.0, 4.0, 2.6666666666666665, 2.0, 1.6, 1.3333333333333333, 1.1428571428571428, 1.0, 0.8888888888888888, 0.8, 9.0, 4.5, 3.0, 2.25, 1.8, 1.5, 1.2857142857142858, 1.125, 1.0, 0.9, 10.0, 5.0, 3.3333333333333335, 2.5, 2.0, 1.6666666666666667, 1.4285714285714286, 1.25, 1.1111111111111112, 1.0]\n"
          ]
        },
        {
          "output_type": "execute_result",
          "data": {
            "text/plain": [
              "161.09325396825395"
            ]
          },
          "metadata": {},
          "execution_count": 52
        }
      ]
    },
    {
      "cell_type": "markdown",
      "source": [
        "#Problem 3"
      ],
      "metadata": {
        "id": "dXxWTPMwur2J"
      }
    },
    {
      "cell_type": "code",
      "source": [
        "B=[]\n",
        "for x in range(1,1001):\n",
        "  if (x**3 - 1)%7 == 0:\n",
        "    B.append(x)\n",
        "print(B)\n",
        "print(len(B))\n",
        "\n",
        "   "
      ],
      "metadata": {
        "colab": {
          "base_uri": "https://localhost:8080/"
        },
        "id": "ewVuAxHKETtx",
        "outputId": "feacd331-8b01-46a3-8262-7f4aed26b9de"
      },
      "execution_count": 55,
      "outputs": [
        {
          "output_type": "stream",
          "name": "stdout",
          "text": [
            "[1, 2, 4, 8, 9, 11, 15, 16, 18, 22, 23, 25, 29, 30, 32, 36, 37, 39, 43, 44, 46, 50, 51, 53, 57, 58, 60, 64, 65, 67, 71, 72, 74, 78, 79, 81, 85, 86, 88, 92, 93, 95, 99, 100, 102, 106, 107, 109, 113, 114, 116, 120, 121, 123, 127, 128, 130, 134, 135, 137, 141, 142, 144, 148, 149, 151, 155, 156, 158, 162, 163, 165, 169, 170, 172, 176, 177, 179, 183, 184, 186, 190, 191, 193, 197, 198, 200, 204, 205, 207, 211, 212, 214, 218, 219, 221, 225, 226, 228, 232, 233, 235, 239, 240, 242, 246, 247, 249, 253, 254, 256, 260, 261, 263, 267, 268, 270, 274, 275, 277, 281, 282, 284, 288, 289, 291, 295, 296, 298, 302, 303, 305, 309, 310, 312, 316, 317, 319, 323, 324, 326, 330, 331, 333, 337, 338, 340, 344, 345, 347, 351, 352, 354, 358, 359, 361, 365, 366, 368, 372, 373, 375, 379, 380, 382, 386, 387, 389, 393, 394, 396, 400, 401, 403, 407, 408, 410, 414, 415, 417, 421, 422, 424, 428, 429, 431, 435, 436, 438, 442, 443, 445, 449, 450, 452, 456, 457, 459, 463, 464, 466, 470, 471, 473, 477, 478, 480, 484, 485, 487, 491, 492, 494, 498, 499, 501, 505, 506, 508, 512, 513, 515, 519, 520, 522, 526, 527, 529, 533, 534, 536, 540, 541, 543, 547, 548, 550, 554, 555, 557, 561, 562, 564, 568, 569, 571, 575, 576, 578, 582, 583, 585, 589, 590, 592, 596, 597, 599, 603, 604, 606, 610, 611, 613, 617, 618, 620, 624, 625, 627, 631, 632, 634, 638, 639, 641, 645, 646, 648, 652, 653, 655, 659, 660, 662, 666, 667, 669, 673, 674, 676, 680, 681, 683, 687, 688, 690, 694, 695, 697, 701, 702, 704, 708, 709, 711, 715, 716, 718, 722, 723, 725, 729, 730, 732, 736, 737, 739, 743, 744, 746, 750, 751, 753, 757, 758, 760, 764, 765, 767, 771, 772, 774, 778, 779, 781, 785, 786, 788, 792, 793, 795, 799, 800, 802, 806, 807, 809, 813, 814, 816, 820, 821, 823, 827, 828, 830, 834, 835, 837, 841, 842, 844, 848, 849, 851, 855, 856, 858, 862, 863, 865, 869, 870, 872, 876, 877, 879, 883, 884, 886, 890, 891, 893, 897, 898, 900, 904, 905, 907, 911, 912, 914, 918, 919, 921, 925, 926, 928, 932, 933, 935, 939, 940, 942, 946, 947, 949, 953, 954, 956, 960, 961, 963, 967, 968, 970, 974, 975, 977, 981, 982, 984, 988, 989, 991, 995, 996, 998]\n",
            "429\n"
          ]
        }
      ]
    },
    {
      "cell_type": "markdown",
      "source": [
        "#Problem 4"
      ],
      "metadata": {
        "id": "66k01zFA0Eig"
      }
    },
    {
      "cell_type": "code",
      "source": [
        "T=[]\n",
        "for x in range(0,101):\n",
        "   for y in range(0,101):\n",
        "      if x**3 - y**2 == 1:\n",
        "        T.append((x,y))\n",
        "        return(x,y)\n",
        "print(T)"
      ],
      "metadata": {
        "colab": {
          "base_uri": "https://localhost:8080/"
        },
        "id": "DOGo0N3j0pAk",
        "outputId": "f03bdac9-bc53-4c47-a67a-b0b5b5475983"
      },
      "execution_count": 54,
      "outputs": [
        {
          "output_type": "stream",
          "name": "stdout",
          "text": [
            "[(1, 0)]\n"
          ]
        }
      ]
    },
    {
      "cell_type": "markdown",
      "source": [
        "#Problem 6"
      ],
      "metadata": {
        "id": "l2P1A5164bt4"
      }
    },
    {
      "cell_type": "code",
      "source": [
        "def P(n):\n",
        "  while n>0:\n",
        "    if n%2==0:\n",
        "      return((n/2))\n",
        "    else:\n",
        "      return((n-1)/2)"
      ],
      "metadata": {
        "id": "U0X261Jc1uK5"
      },
      "execution_count": 61,
      "outputs": []
    },
    {
      "cell_type": "code",
      "source": [
        "P(13)"
      ],
      "metadata": {
        "colab": {
          "base_uri": "https://localhost:8080/"
        },
        "id": "RoWvT3ui5ZU7",
        "outputId": "eb7c981e-62e5-4dd2-9897-6160ef8103bd"
      },
      "execution_count": 62,
      "outputs": [
        {
          "output_type": "execute_result",
          "data": {
            "text/plain": [
              "6.0"
            ]
          },
          "metadata": {},
          "execution_count": 62
        }
      ]
    },
    {
      "cell_type": "code",
      "source": [],
      "metadata": {
        "id": "MmGZleln5a19"
      },
      "execution_count": null,
      "outputs": []
    }
  ]
}