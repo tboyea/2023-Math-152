{
  "nbformat": 4,
  "nbformat_minor": 0,
  "metadata": {
    "colab": {
      "provenance": [],
      "toc_visible": true,
      "include_colab_link": true
    },
    "kernelspec": {
      "name": "python3",
      "display_name": "Python 3"
    },
    "language_info": {
      "name": "python"
    }
  },
  "cells": [
    {
      "cell_type": "markdown",
      "metadata": {
        "id": "view-in-github",
        "colab_type": "text"
      },
      "source": [
        "<a href=\"https://colab.research.google.com/github/tboyea/2023-Math-152/blob/main/Exploration_1_Collatz_Conjecture.ipynb\" target=\"_parent\"><img src=\"https://colab.research.google.com/assets/colab-badge.svg\" alt=\"Open In Colab\"/></a>"
      ]
    },
    {
      "cell_type": "markdown",
      "source": [
        "Each came up with our own code for the conjecture\n",
        "\n",
        "Aziz working on 2\n",
        "\n",
        "August working on 3\n",
        "\n",
        "Kelly writing the findings and describing the code and 5\n",
        "\n",
        "Tanner working on 4(?)"
      ],
      "metadata": {
        "id": "2u1VT3V2iU4W"
      }
    },
    {
      "cell_type": "markdown",
      "source": [
        "# Exploration 1: The Collatz Conjecture\n"
      ],
      "metadata": {
        "id": "KcGnkqB3kPcp"
      }
    },
    {
      "cell_type": "markdown",
      "source": [
        "Aziz Albayouk, Tanner Boyea, Kelly Kirchner, August Noe"
      ],
      "metadata": {
        "id": "eysrMgPD7_vM"
      }
    },
    {
      "cell_type": "code",
      "execution_count": null,
      "metadata": {
        "id": "fNCzvy2USSVb"
      },
      "outputs": [],
      "source": [
        "def kelly_collatz(n):\n",
        "  t = 0 \n",
        "  while n > 1:\n",
        "    if n % 2 == 0:\n",
        "      n = n / 2\n",
        "    elif n % 2 == 1:\n",
        "      n = 3 * n + 1\n",
        "    print(n) \n",
        "    t = t + 1\n",
        "  print(1)\n"
      ]
    },
    {
      "cell_type": "code",
      "source": [],
      "metadata": {
        "id": "kdXhXlIuWnsH"
      },
      "execution_count": null,
      "outputs": []
    },
    {
      "cell_type": "code",
      "source": [
        "def agu_collatz(n):\n",
        "  mm=n\n",
        "  t=0\n",
        "  print(t,mm)\n",
        "  while mm!=1:\n",
        "    t=t+1\n",
        "    if mm%2==0:\n",
        "      mm=mm/2\n",
        "    elif mm%2==1:\n",
        "      mm=3*mm+1\n",
        "    print(t,mm)\n",
        "\n",
        "def single_collatz_check(n): #verifies if a single number 'passes' the colatz conjecture\n",
        "  mm=n\n",
        "  t=0\n",
        "  while mm!=1:\n",
        "    t=t+1\n",
        "    if mm%2==0:\n",
        "      mm=mm/2\n",
        "    elif mm%2==1:\n",
        "      mm=3*mm+1\n",
        "    if t>1000:\n",
        "      return(False)\n",
        "      break\n",
        "  return(True)\n",
        "\n",
        "\n",
        "\n",
        "def range_collatz_check(y): #3\n",
        "  verified=[]\n",
        "  for x in range(1,y):\n",
        "    mm=x\n",
        "    t=0\n",
        "    while mm!=1:\n",
        "      t=t+1\n",
        "      if mm%2==0:\n",
        "        mm=mm/2\n",
        "      elif mm%2==1:\n",
        "        mm=3*mm+1\n",
        "      if verified.count(mm)!=0:\n",
        "        mm==1\n",
        "      if t>1000:\n",
        "        return(\"Time out at\",x)\n",
        "        break\n",
        "    verified.append(x)\n",
        "  return(\"First \", y, \" terms are verified.\")\n",
        "\n",
        "      \n",
        "range_collatz_check(100)\n"
      ],
      "metadata": {
        "id": "8Rqfp_UKVD-T",
        "colab": {
          "base_uri": "https://localhost:8080/"
        },
        "outputId": "c941c180-bcb9-4c89-ba85-f7a659c34b0d"
      },
      "execution_count": null,
      "outputs": [
        {
          "output_type": "execute_result",
          "data": {
            "text/plain": [
              "('First ', 100, ' terms are verified.')"
            ]
          },
          "metadata": {},
          "execution_count": 94
        }
      ]
    },
    {
      "cell_type": "code",
      "source": [
        "def aziz_collatz(n,it): \n",
        "  while n>1:\n",
        "    for i in range (n,it):\n",
        "      if n%2==0:\n",
        "       n=n/2\n",
        "      else:\n",
        "        n=(3*n)+1\n",
        "      print(n)\n",
        "aziz_collatz(3,10)"
      ],
      "metadata": {
        "colab": {
          "base_uri": "https://localhost:8080/"
        },
        "id": "Ckc3YXldfc61",
        "outputId": "d7692e7c-7c73-430e-a068-ff7e8d16e692"
      },
      "execution_count": null,
      "outputs": [
        {
          "output_type": "stream",
          "name": "stdout",
          "text": [
            "10\n",
            "5.0\n",
            "16.0\n",
            "8.0\n",
            "4.0\n",
            "2.0\n",
            "1.0\n"
          ]
        }
      ]
    },
    {
      "cell_type": "code",
      "source": [
        "#Code for #4\n",
        "list_iterdrop=[]\n",
        "list_drop=[1,2,3,4,2]\n",
        "for x in range(0,len(list_drop)):\n",
        "      if list_drop[x]<=list_drop[x+1]:\n",
        "        list_iterdrop.append(x)\n",
        "        print(list_iterdrop)\n",
        "      elif list_drop[x]>list_drop[x+1]:\n",
        "        print (len(list_iterdrop))"
      ],
      "metadata": {
        "id": "_31yLmF-ffPA",
        "colab": {
          "base_uri": "https://localhost:8080/",
          "height": 312
        },
        "outputId": "4d051c04-2782-45d1-c711-b963338ec2ad"
      },
      "execution_count": null,
      "outputs": [
        {
          "output_type": "stream",
          "name": "stdout",
          "text": [
            "[0]\n",
            "[0, 1]\n",
            "[0, 1, 2]\n",
            "3\n"
          ]
        },
        {
          "output_type": "error",
          "ename": "IndexError",
          "evalue": "ignored",
          "traceback": [
            "\u001b[0;31m---------------------------------------------------------------------------\u001b[0m",
            "\u001b[0;31mIndexError\u001b[0m                                Traceback (most recent call last)",
            "\u001b[0;32m<ipython-input-30-ee42766dbad2>\u001b[0m in \u001b[0;36m<module>\u001b[0;34m\u001b[0m\n\u001b[1;32m      3\u001b[0m \u001b[0mlist_drop\u001b[0m\u001b[0;34m=\u001b[0m\u001b[0;34m[\u001b[0m\u001b[0;36m1\u001b[0m\u001b[0;34m,\u001b[0m\u001b[0;36m2\u001b[0m\u001b[0;34m,\u001b[0m\u001b[0;36m3\u001b[0m\u001b[0;34m,\u001b[0m\u001b[0;36m4\u001b[0m\u001b[0;34m,\u001b[0m\u001b[0;36m2\u001b[0m\u001b[0;34m]\u001b[0m\u001b[0;34m\u001b[0m\u001b[0;34m\u001b[0m\u001b[0m\n\u001b[1;32m      4\u001b[0m \u001b[0;32mfor\u001b[0m \u001b[0mx\u001b[0m \u001b[0;32min\u001b[0m \u001b[0mrange\u001b[0m\u001b[0;34m(\u001b[0m\u001b[0;36m0\u001b[0m\u001b[0;34m,\u001b[0m\u001b[0mlen\u001b[0m\u001b[0;34m(\u001b[0m\u001b[0mlist_drop\u001b[0m\u001b[0;34m)\u001b[0m\u001b[0;34m)\u001b[0m\u001b[0;34m:\u001b[0m\u001b[0;34m\u001b[0m\u001b[0;34m\u001b[0m\u001b[0m\n\u001b[0;32m----> 5\u001b[0;31m       \u001b[0;32mif\u001b[0m \u001b[0mlist_drop\u001b[0m\u001b[0;34m[\u001b[0m\u001b[0mx\u001b[0m\u001b[0;34m]\u001b[0m\u001b[0;34m<=\u001b[0m\u001b[0mlist_drop\u001b[0m\u001b[0;34m[\u001b[0m\u001b[0mx\u001b[0m\u001b[0;34m+\u001b[0m\u001b[0;36m1\u001b[0m\u001b[0;34m]\u001b[0m\u001b[0;34m:\u001b[0m\u001b[0;34m\u001b[0m\u001b[0;34m\u001b[0m\u001b[0m\n\u001b[0m\u001b[1;32m      6\u001b[0m         \u001b[0mlist_iterdrop\u001b[0m\u001b[0;34m.\u001b[0m\u001b[0mappend\u001b[0m\u001b[0;34m(\u001b[0m\u001b[0mx\u001b[0m\u001b[0;34m)\u001b[0m\u001b[0;34m\u001b[0m\u001b[0;34m\u001b[0m\u001b[0m\n\u001b[1;32m      7\u001b[0m         \u001b[0mprint\u001b[0m\u001b[0;34m(\u001b[0m\u001b[0mlist_iterdrop\u001b[0m\u001b[0;34m)\u001b[0m\u001b[0;34m\u001b[0m\u001b[0;34m\u001b[0m\u001b[0m\n",
            "\u001b[0;31mIndexError\u001b[0m: list index out of range"
          ]
        }
      ]
    },
    {
      "cell_type": "code",
      "source": [
        "def collatz(n): \n",
        "    steps = 0\n",
        "    while n != 1:\n",
        "        steps += 1\n",
        "        if n%2 == 0:\n",
        "            n /= 2\n",
        "        else:\n",
        "            n = 3 * n + 1\n",
        "        return(n, steps)"
      ],
      "metadata": {
        "id": "N-MdLgn6JPci"
      },
      "execution_count": 1,
      "outputs": []
    },
    {
      "cell_type": "markdown",
      "source": [
        "We know that the dropping time for any even number is 1 so we will set a range excluding those numbers."
      ],
      "metadata": {
        "id": "q8wvPlOZKceB"
      }
    },
    {
      "cell_type": "code",
      "source": [
        "for N in range(3, 101, 2):\n",
        "    n = N\n",
        "    steps = 0\n",
        "    while n != 1:\n",
        "        steps += 1\n",
        "        if n%2 == 0:\n",
        "            n /= 2\n",
        "        else:\n",
        "            n = 3 * n + 1\n",
        "    print(N, steps)"
      ],
      "metadata": {
        "colab": {
          "base_uri": "https://localhost:8080/"
        },
        "id": "IUKH5fC-JMk0",
        "outputId": "0be0e346-f91b-48ca-979d-54de598e577a"
      },
      "execution_count": 2,
      "outputs": [
        {
          "output_type": "stream",
          "name": "stdout",
          "text": [
            "3 7\n",
            "5 5\n",
            "7 16\n",
            "9 19\n",
            "11 14\n",
            "13 9\n",
            "15 17\n",
            "17 12\n",
            "19 20\n",
            "21 7\n",
            "23 15\n",
            "25 23\n",
            "27 111\n",
            "29 18\n",
            "31 106\n",
            "33 26\n",
            "35 13\n",
            "37 21\n",
            "39 34\n",
            "41 109\n",
            "43 29\n",
            "45 16\n",
            "47 104\n",
            "49 24\n",
            "51 24\n",
            "53 11\n",
            "55 112\n",
            "57 32\n",
            "59 32\n",
            "61 19\n",
            "63 107\n",
            "65 27\n",
            "67 27\n",
            "69 14\n",
            "71 102\n",
            "73 115\n",
            "75 14\n",
            "77 22\n",
            "79 35\n",
            "81 22\n",
            "83 110\n",
            "85 9\n",
            "87 30\n",
            "89 30\n",
            "91 92\n",
            "93 17\n",
            "95 105\n",
            "97 118\n",
            "99 25\n"
          ]
        }
      ]
    },
    {
      "cell_type": "code",
      "source": [],
      "metadata": {
        "id": "DBFFnBvYKaEs"
      },
      "execution_count": null,
      "outputs": []
    }
  ]
}