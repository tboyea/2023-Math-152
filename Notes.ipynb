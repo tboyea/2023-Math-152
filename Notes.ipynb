{
  "nbformat": 4,
  "nbformat_minor": 0,
  "metadata": {
    "colab": {
      "provenance": [],
      "authorship_tag": "ABX9TyP+YgwqgUcnurLOWS5JgNXu",
      "include_colab_link": true
    },
    "kernelspec": {
      "name": "python3",
      "display_name": "Python 3"
    },
    "language_info": {
      "name": "python"
    }
  },
  "cells": [
    {
      "cell_type": "markdown",
      "metadata": {
        "id": "view-in-github",
        "colab_type": "text"
      },
      "source": [
        "<a href=\"https://colab.research.google.com/github/tboyea/2023-Math-152/blob/main/Notes.ipynb\" target=\"_parent\"><img src=\"https://colab.research.google.com/assets/colab-badge.svg\" alt=\"Open In Colab\"/></a>"
      ]
    },
    {
      "cell_type": "markdown",
      "source": [
        "#Notes"
      ],
      "metadata": {
        "id": "rHAUpiWeq6Gl"
      }
    },
    {
      "cell_type": "markdown",
      "source": [
        "A while loop for analyzing growth of harmonic series"
      ],
      "metadata": {
        "id": "R-fJ8lMDrAEr"
      }
    },
    {
      "cell_type": "markdown",
      "source": [
        "$$ \\frac{1}{1} + \\frac{1}{2} + \\frac{1}{3} + \\frac{1}{4} ....$$\n",
        "\n",
        "---\n",
        "\n"
      ],
      "metadata": {
        "id": "BVosra3UrfYg"
      }
    },
    {
      "cell_type": "code",
      "execution_count": 4,
      "metadata": {
        "colab": {
          "base_uri": "https://localhost:8080/"
        },
        "id": "zl06VwSwq5Et",
        "outputId": "3e825b01-d2c1-4cff-c40c-72f3e01ea52f"
      },
      "outputs": [
        {
          "output_type": "stream",
          "name": "stdout",
          "text": [
            "11 3.0198773448773446\n"
          ]
        }
      ],
      "source": [
        "S=0\n",
        "n=0\n",
        "while S<3:\n",
        "  n = n + 1 #term im currently on\n",
        "  S = S + (1/n) #running total/sum\n",
        "print(n,S)"
      ]
    },
    {
      "cell_type": "code",
      "source": [
        "def Fibo(M):\n",
        "  a=0\n",
        "  b=1\n",
        "  while b < M:\n",
        "    print(b)\n",
        "    a,b = b,a+b\n",
        "  return(None)"
      ],
      "metadata": {
        "id": "Repi_6e4vbxI"
      },
      "execution_count": 44,
      "outputs": []
    },
    {
      "cell_type": "code",
      "source": [
        "Fibo(234)"
      ],
      "metadata": {
        "colab": {
          "base_uri": "https://localhost:8080/"
        },
        "id": "bvsmYc4ivfnd",
        "outputId": "aeda3538-e4c7-48c7-dfbe-ed49f3cd1db3"
      },
      "execution_count": 45,
      "outputs": [
        {
          "output_type": "stream",
          "name": "stdout",
          "text": [
            "1\n",
            "1\n",
            "2\n",
            "3\n",
            "5\n",
            "8\n",
            "13\n",
            "21\n",
            "34\n",
            "55\n",
            "89\n",
            "144\n",
            "233\n"
          ]
        }
      ]
    },
    {
      "cell_type": "code",
      "source": [
        "def collatz(n): \n",
        "    steps = 0\n",
        "    while n != 1:\n",
        "        print(n)\n",
        "        steps += 1\n",
        "        if n%2 == 0:\n",
        "            n //= 2\n",
        "        else:\n",
        "            n = 3 * n + 1\n",
        "    return(n, steps)"
      ],
      "metadata": {
        "id": "KXPbJG46zhSQ"
      },
      "execution_count": 53,
      "outputs": []
    },
    {
      "cell_type": "code",
      "source": [
        "collatz(12)"
      ],
      "metadata": {
        "colab": {
          "base_uri": "https://localhost:8080/"
        },
        "id": "0vBH2ULh6LSW",
        "outputId": "6c268f99-e492-438a-ae14-8ffde2b33677"
      },
      "execution_count": 54,
      "outputs": [
        {
          "output_type": "stream",
          "name": "stdout",
          "text": [
            "12\n",
            "6\n",
            "3\n",
            "10\n",
            "5\n",
            "16\n",
            "8\n",
            "4\n",
            "2\n"
          ]
        },
        {
          "output_type": "execute_result",
          "data": {
            "text/plain": [
              "(1, 9)"
            ]
          },
          "metadata": {},
          "execution_count": 54
        }
      ]
    },
    {
      "cell_type": "code",
      "source": [
        "for N in range(3, 101, 2):\n",
        "    n = N\n",
        "    steps = 0\n",
        "    while n != 1:\n",
        "        steps += 1\n",
        "        if n%2 == 0:\n",
        "            n /= 2\n",
        "        else:\n",
        "            n = 3 * n + 1\n",
        "    print(N, steps)"
      ],
      "metadata": {
        "colab": {
          "base_uri": "https://localhost:8080/"
        },
        "id": "nzjpGVPE11eG",
        "outputId": "6763dd38-2d48-4518-9eb6-d5c44e7a9248"
      },
      "execution_count": 41,
      "outputs": [
        {
          "output_type": "stream",
          "name": "stdout",
          "text": [
            "3 7\n",
            "5 5\n",
            "7 16\n",
            "9 19\n",
            "11 14\n",
            "13 9\n",
            "15 17\n",
            "17 12\n",
            "19 20\n",
            "21 7\n",
            "23 15\n",
            "25 23\n",
            "27 111\n",
            "29 18\n",
            "31 106\n",
            "33 26\n",
            "35 13\n",
            "37 21\n",
            "39 34\n",
            "41 109\n",
            "43 29\n",
            "45 16\n",
            "47 104\n",
            "49 24\n",
            "51 24\n",
            "53 11\n",
            "55 112\n",
            "57 32\n",
            "59 32\n",
            "61 19\n",
            "63 107\n",
            "65 27\n",
            "67 27\n",
            "69 14\n",
            "71 102\n",
            "73 115\n",
            "75 14\n",
            "77 22\n",
            "79 35\n",
            "81 22\n",
            "83 110\n",
            "85 9\n",
            "87 30\n",
            "89 30\n",
            "91 92\n",
            "93 17\n",
            "95 105\n",
            "97 118\n",
            "99 25\n"
          ]
        }
      ]
    },
    {
      "cell_type": "code",
      "source": [],
      "metadata": {
        "id": "ciU9E7bF13ZF"
      },
      "execution_count": null,
      "outputs": []
    }
  ]
}